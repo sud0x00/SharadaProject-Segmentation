{
 "cells": [
  {
   "attachments": {},
   "cell_type": "markdown",
   "metadata": {},
   "source": [
    "# Imports"
   ]
  },
  {
   "cell_type": "code",
   "execution_count": 19,
   "metadata": {},
   "outputs": [],
   "source": [
    "import cv2\n",
    "import numpy as np\n",
    "import scipy.ndimage as rt\n",
    "from matplotlib import pyplot as plt\n",
    "import shutil\n",
    "import os\n",
    "import string\n",
    "import random"
   ]
  },
  {
   "attachments": {},
   "cell_type": "markdown",
   "metadata": {},
   "source": [
    "# Pre-requisites"
   ]
  },
  {
   "cell_type": "code",
   "execution_count": 20,
   "metadata": {},
   "outputs": [],
   "source": [
    "\n",
    "if os.path.exists('Line_Segment'):\n",
    "    shutil.rmtree('Line_Segment')\n",
    "if os.path.exists('Char_Segment'):\n",
    "    shutil.rmtree('Char_Segment')"
   ]
  },
  {
   "cell_type": "code",
   "execution_count": 21,
   "metadata": {},
   "outputs": [],
   "source": [
    "img_global = \"test/inclined_3.jpg\"\n",
    "img = cv2.imread(img_global)"
   ]
  },
  {
   "attachments": {},
   "cell_type": "markdown",
   "metadata": {},
   "source": [
    "# Skew Correction"
   ]
  },
  {
   "cell_type": "code",
   "execution_count": 22,
   "metadata": {},
   "outputs": [],
   "source": [
    "def correct_skew(image, delta=1, limit=5):\n",
    "    def determine_score(arr, angle):\n",
    "        data = rt.rotate(arr, angle, reshape=False, order=0)\n",
    "        histogram = np.sum(data, axis=1, dtype=float)\n",
    "        score = np.sum((histogram[1:] - histogram[:-1]) ** 2, dtype=float)\n",
    "        return histogram, score\n",
    "\n",
    "    gray = cv2.cvtColor(image, cv2.COLOR_BGR2GRAY)\n",
    "    thresh = cv2.threshold(gray, 0, 255, cv2.THRESH_BINARY_INV + cv2.THRESH_OTSU)[1] \n",
    "\n",
    "    scores = []\n",
    "    angles = np.arange(-limit, limit + delta, delta)\n",
    "    for angle in angles:\n",
    "        histogram, score = determine_score(thresh, angle)\n",
    "        scores.append(score)\n",
    "\n",
    "    best_angle = angles[scores.index(max(scores))]\n",
    "\n",
    "    (h, w) = image.shape[:2]\n",
    "    center = (w // 2, h // 2)\n",
    "    M = cv2.getRotationMatrix2D(center, best_angle, 1.0)\n",
    "    corrected = cv2.warpAffine(image, M, (w, h), flags=cv2.INTER_CUBIC, \\\n",
    "            borderMode=cv2.BORDER_REPLICATE)\n",
    "\n",
    "    return best_angle, corrected"
   ]
  },
  {
   "cell_type": "code",
   "execution_count": 23,
   "metadata": {},
   "outputs": [
    {
     "name": "stdout",
     "output_type": "stream",
     "text": [
      "-4\n"
     ]
    }
   ],
   "source": [
    "angle, corrected = correct_skew(img)\n",
    "print(angle)"
   ]
  },
  {
   "attachments": {},
   "cell_type": "markdown",
   "metadata": {},
   "source": [
    "# Line Segmentation"
   ]
  },
  {
   "cell_type": "code",
   "execution_count": 24,
   "metadata": {},
   "outputs": [
    {
     "data": {
      "image/png": "[encoded data removed]",
      "text/plain": [
       "<Figure size 640x480 with 1 Axes>"
      ]
     },
     "metadata": {},
     "output_type": "display_data"
    }
   ],
   "source": [
    "img = corrected\n",
    "\n",
    "dnc = cv2.fastNlMeansDenoisingColored(img, None, 10, 10, 7, 15) \n",
    "\n",
    "# Convert the image to grayscale\n",
    "gray = cv2.cvtColor(dnc, cv2.COLOR_BGR2GRAY)\n",
    "\n",
    "ret, img_bin = cv2.threshold(gray, 120, 255, cv2.THRESH_BINARY_INV, cv2.THRESH_OTSU) # imgf contains Binary image\n",
    "\n",
    "# Defining a kernel length\n",
    "kernel_len = np.array(img).shape[1]//50\n",
    "\n",
    "# Defining a horizontal kernel for horizontal dilation\n",
    "hor_kernel = cv2.getStructuringElement(cv2.MORPH_RECT, (kernel_len, 2))\n",
    "\n",
    "# Use horizontal kernel to connect text characters and remove spaces\n",
    "horizontal_lines = cv2.dilate(img_bin, hor_kernel, iterations=5)\n",
    "\n",
    "# Now we erode\n",
    "horizontal_lines = cv2.erode(horizontal_lines, hor_kernel, iterations=10)\n",
    "\n",
    "plt.imshow(horizontal_lines)\n",
    "plt.show()\n",
    "\n",
    "# Find contours for image, which will detect all lines\n",
    "contours, _ = cv2.findContours(horizontal_lines, cv2.RETR_TREE, cv2.CHAIN_APPROX_SIMPLE)\n",
    "\n",
    "# Calculate mean contour area\n",
    "mean_area = np.mean([cv2.contourArea(ctr) for ctr in contours])\n",
    "\n",
    "if os.path.exists('Line_Segment'):\n",
    "    shutil.rmtree('Line_Segment')\n",
    "\n",
    "# Create the \"Line_Segment\" folder if it doesn't exist\n",
    "if not os.path.exists(\"Line_Segment\"):\n",
    "    os.makedirs(\"Line_Segment\")\n",
    "\n",
    "# Initialize a counter for naming the images\n",
    "counter = 0\n",
    "\n",
    "# Sort contours based on y-coordinate\n",
    "contours = sorted(contours, key=lambda ctr: cv2.boundingRect(ctr)[1])\n",
    "\n",
    "# Define the NMS threshold value\n",
    "nms_threshold = 0.5\n",
    "\n",
    "# Convert the boxes list to a numpy array\n",
    "boxes = np.array([cv2.boundingRect(contour) for contour in contours])\n",
    "\n",
    "# Confidence scores (all set to 1)\n",
    "scores = np.ones(len([cv2.boundingRect(contour) for contour in contours]))\n",
    "\n",
    "# Apply NMS to get the indices of the selected bounding boxes\n",
    "indices = cv2.dnn.NMSBoxes(boxes, scores, 0, nms_threshold)\n",
    "\n",
    "# Filter the contours based on the NMS results\n",
    "filtered_contours = [contours[i] for i in indices.flatten()]\n",
    "\n",
    "# Initialize a counter for naming the line segments\n",
    "counter = 0\n",
    "\n",
    "#Random string used to make file names distinct\n",
    "random_string = ''.join(random.choices(string.ascii_letters + string.digits, k=15))\n",
    "\n",
    "# Modify these values according to your requirements\n",
    "expand_left = 1\n",
    "expand_right = 1\n",
    "\n",
    "\n",
    "# Loop over the contours\n",
    "for contour in filtered_contours:\n",
    "    # Skip small contours\n",
    "    if cv2.contourArea(contour) < mean_area / (np.array(img).shape[1]//100):\n",
    "        continue\n",
    "\n",
    "    # Get bounding box\n",
    "    x, y, w, h = cv2.boundingRect(contour)\n",
    "\n",
    "    # Expand the bounding box if non-zero pixels are found\n",
    "    while np.any(img_bin[y:y+h, x-expand_left:x] > 0):\n",
    "        x -= expand_left\n",
    "        w += expand_left\n",
    "    while np.any(img_bin[y:y+h, x+w:x+w+expand_right] > 0):\n",
    "        w += expand_right\n",
    "\n",
    "\n",
    "\n",
    "    # Draw the bounding box\n",
    "    # cv2.rectangle(img, (x, y), (x + w, y + h), (0, 255, 0), 2)\n",
    "\n",
    "    # Extract the content of the bounding box\n",
    "    line_segment = img[y-10:y+h+10, x-10:x+w+10]\n",
    "  \n",
    "    # Generate a unique filename for the line segment\n",
    "    filename = f\"line_{counter}_{random_string}.jpg\"\n",
    "  \n",
    "    # Save the line segment image\n",
    "    cv2.imwrite(os.path.join(\"Line_Segment\", filename), line_segment)\n",
    "  \n",
    "    # Increment the counter\n",
    "    counter += 1\n",
    "\n",
    "# Display the image\n",
    "# plt.imshow(cv2.cvtColor(img, cv2.COLOR_BGR2RGB))\n",
    "# plt.show()"
   ]
  },
  {
   "attachments": {},
   "cell_type": "markdown",
   "metadata": {},
   "source": [
    "# Char Segmentation"
   ]
  },
  {
   "attachments": {},
   "cell_type": "markdown",
   "metadata": {},
   "source": [
    "         Pre-Req"
   ]
  },
  {
   "cell_type": "code",
   "execution_count": 10,
   "metadata": {},
   "outputs": [],
   "source": [
    "# Character Segmentation\n",
    "char_segment_dir = \"Char_Segment\"\n",
    "if os.path.exists(char_segment_dir):\n",
    "    shutil.rmtree(char_segment_dir)\n",
    "os.makedirs(char_segment_dir)"
   ]
  },
  {
   "cell_type": "code",
   "execution_count": 241,
   "metadata": {},
   "outputs": [],
   "source": [
    "loc = \"Line_Segment/line_4_qKBkh7gMxVQVs7c.jpg\"\n",
    "line_img = cv2.imread(loc)"
   ]
  },
  {
   "cell_type": "code",
   "execution_count": 233,
   "metadata": {},
   "outputs": [
    {
     "ename": "error",
     "evalue": "OpenCV(4.7.0) :-1: error: (-5:Bad argument) in function 'threshold'\n> Overload resolution failed:\n>  - threshold() missing required argument 'thresh' (pos 2)\n>  - threshold() missing required argument 'thresh' (pos 2)\n",
     "output_type": "error",
     "traceback": [
      "\u001b[1;31m---------------------------------------------------------------------------\u001b[0m",
      "\u001b[1;31merror\u001b[0m                                     Traceback (most recent call last)",
      "Cell \u001b[1;32mIn[233], line 5\u001b[0m\n\u001b[0;32m      3\u001b[0m gauss \u001b[39m=\u001b[39m cv2\u001b[39m.\u001b[39mGaussianBlur(dnc_1, (\u001b[39m7\u001b[39m,\u001b[39m7\u001b[39m), \u001b[39m0\u001b[39m)\n\u001b[0;32m      4\u001b[0m img_gray \u001b[39m=\u001b[39m cv2\u001b[39m.\u001b[39mcvtColor(gauss, cv2\u001b[39m.\u001b[39mCOLOR_BGR2GRAY)\n\u001b[1;32m----> 5\u001b[0m img_bin \u001b[39m=\u001b[39m cv2\u001b[39m.\u001b[39;49mthreshold(img_gray)\n",
      "\u001b[1;31merror\u001b[0m: OpenCV(4.7.0) :-1: error: (-5:Bad argument) in function 'threshold'\n> Overload resolution failed:\n>  - threshold() missing required argument 'thresh' (pos 2)\n>  - threshold() missing required argument 'thresh' (pos 2)\n"
     ]
    }
   ],
   "source": [
    "dnc_1 = cv2.fastNlMeansDenoisingColored(line_img, None, 10, 10, 75, 15) \n",
    "\n",
    "gauss = cv2.GaussianBlur(dnc_1, (7,7), 0)\n",
    "img_gray = cv2.cvtColor(gauss, cv2.COLOR_BGR2GRAY)\n",
    "img_bin = cv2.threshold(img_gray)"
   ]
  },
  {
   "cell_type": "code",
   "execution_count": null,
   "metadata": {},
   "outputs": [
    {
     "data": {
      "text/plain": [
       "-1"
      ]
     },
     "execution_count": 226,
     "metadata": {},
     "output_type": "execute_result"
    }
   ],
   "source": [
    "\n",
    "\n",
    "cv2.imshow(\"mask\",img_bin)\n",
    "cv2.waitKey(0)\n",
    "\n"
   ]
  },
  {
   "cell_type": "code",
   "execution_count": 242,
   "metadata": {},
   "outputs": [],
   "source": [
    "dnc_1 = cv2.fastNlMeansDenoisingColored(line_img, None, 10, 10, 5, 5) \n",
    "\n",
    "ret, imgf = cv2.threshold(img_gray, 125, 255,cv2.THRESH_BINARY_INV,cv2.THRESH_OTSU) #imgf contains Binary image\n",
    "\n",
    "kernel = cv2.getStructuringElement(cv2.MORPH_RECT, (1,8))\n",
    "mask = cv2.morphologyEx(imgf, cv2.MORPH_DILATE , kernel)\n",
    "\n",
    "\n",
    "## Convert the line image to grayscale\n",
    "#gray = cv2.cvtColor(dnc_1, cv2.COLOR_BGR2GRAY)\n",
    "#\n",
    "## Apply adaptive thresholding to obtain a binary image\n",
    "#img_bin = cv2.adaptiveThreshold(gray, 255, cv2.ADAPTIVE_THRESH_MEAN_C, cv2.THRESH_BINARY_INV, 11, 2)"
   ]
  },
  {
   "cell_type": "code",
   "execution_count": 243,
   "metadata": {},
   "outputs": [],
   "source": [
    "# Defining a kernel length\n",
    "kernel_len_ver = np.array(img).shape[0]//100\n",
    "kernel_len_hor = np.array(img).shape[1]//100\n",
    "\n",
    "# Defining a vertical kernel for vertical dilation\n",
    "ver_kernel = cv2.getStructuringElement(cv2.MORPH_RECT, (1,kernel_len))\n",
    "hor_kernel = cv2.getStructuringElement(cv2.MORPH_RECT, (kernel_len_hor,1))\n",
    "\n",
    "\n",
    "# Use horizontal kernel to connect text characters and remove spaces\n",
    "vertical_lines = cv2.dilate(mask, ver_kernel, iterations=5)\n",
    "\n",
    "vertical_lines = cv2.erode(vertical_lines, hor_kernel, iterations=1)\n"
   ]
  },
  {
   "cell_type": "code",
   "execution_count": 246,
   "metadata": {},
   "outputs": [
    {
     "data": {
      "text/plain": [
       "-1"
      ]
     },
     "execution_count": 246,
     "metadata": {},
     "output_type": "execute_result"
    }
   ],
   "source": [
    "cv2.imshow(\"line\",vertical_lines)\n",
    "cv2.waitKey(0)"
   ]
  },
  {
   "cell_type": "code",
   "execution_count": 245,
   "metadata": {},
   "outputs": [],
   "source": [
    "# Find contours in the image\n",
    "contours, _ = cv2.findContours(vertical_lines, cv2.RETR_EXTERNAL, cv2.CHAIN_APPROX_SIMPLE)\n",
    "\n",
    "# Sort contours from left to right\n",
    "contours = sorted(contours, key=lambda c: cv2.boundingRect(c)[0])\n",
    "\n",
    "# Draw bounding boxes around characters\n",
    "for contour in contours:\n",
    "    x, y, w, h = cv2.boundingRect(contour)\n",
    "    cv2.rectangle(line_img, (x, y), (x + w, y + h), (0, 255, 0), 2)  # Draw green rectangles\n",
    "\n",
    "# Display the result\n",
    "cv2.imshow(\"Character Bounding Boxes\", line_img)\n",
    "cv2.waitKey(0)\n",
    "cv2.destroyAllWindows()"
   ]
  },
  {
   "cell_type": "code",
   "execution_count": 110,
   "metadata": {},
   "outputs": [],
   "source": [
    "#noise removal \n",
    "nkernel = np.ones((1,10),np.uint8)\n",
    "opening = cv2.morphologyEx(vertical_lines,cv2.MORPH_OPEN,nkernel, iterations = 5)"
   ]
  },
  {
   "cell_type": "code",
   "execution_count": 111,
   "metadata": {},
   "outputs": [
    {
     "data": {
      "text/plain": [
       "-1"
      ]
     },
     "execution_count": 111,
     "metadata": {},
     "output_type": "execute_result"
    }
   ],
   "source": [
    "cv2.imshow(\"line\",opening)\n",
    "cv2.waitKey(0)"
   ]
  },
  {
   "cell_type": "code",
   "execution_count": null,
   "metadata": {},
   "outputs": [],
   "source": []
  }
 ],
 "metadata": {
  "kernelspec": {
   "display_name": "sharada",
   "language": "python",
   "name": "python3"
  },
  "language_info": {
   "codemirror_mode": {
    "name": "ipython",
    "version": 3
   },
   "file_extension": ".py",
   "mimetype": "text/x-python",
   "name": "python",
   "nbconvert_exporter": "python",
   "pygments_lexer": "ipython3",
   "version": "3.11.3"
  },
  "orig_nbformat": 4
 },
 "nbformat": 4,
 "nbformat_minor": 2
}
